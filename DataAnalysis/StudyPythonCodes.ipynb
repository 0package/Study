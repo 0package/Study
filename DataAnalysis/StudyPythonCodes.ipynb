{
 "cells": [
  {
   "cell_type": "code",
   "execution_count": null,
   "id": "96837cda-8f41-4a34-91b7-73909e614bbc",
   "metadata": {},
   "outputs": [],
   "source": [
    "#Chapter2 파이썬 프로그래밍을 위한 기초 다지기"
   ]
  },
  {
   "cell_type": "code",
   "execution_count": null,
   "id": "6b1af78d-a45a-4ab3-bfc0-dba0ceeca538",
   "metadata": {},
   "outputs": [],
   "source": [
    "##Section1"
   ]
  },
  {
   "cell_type": "code",
   "execution_count": 1,
   "id": "cf96d875-d2e2-4243-b5a9-6731b440874e",
   "metadata": {},
   "outputs": [
    {
     "name": "stdout",
     "output_type": "stream",
     "text": [
      "Hello World!\n",
      "Hi, python\n"
     ]
    }
   ],
   "source": [
    "print('Hello World!')\n",
    "print('Hi, python')"
   ]
  },
  {
   "cell_type": "code",
   "execution_count": 5,
   "id": "41afab71-ad0e-444d-908f-9ddaf762eff6",
   "metadata": {},
   "outputs": [
    {
     "name": "stdout",
     "output_type": "stream",
     "text": [
      "원의 원주율 3.141592\n",
      "python programming language\n",
      "파이썬 언어는 강력하다\n",
      "파이썬 언어! 방가 방가 방가 \n"
     ]
    }
   ],
   "source": [
    "print(\"원의 원주율 \" + '3.141592')\n",
    "print(\"python \" 'programming ' + 'language')\n",
    "print('파이썬 언어는' + \" 강력하다\")\n",
    "print('파이썬 ' + \"언어! \" + 3*\"방가 \")"
   ]
  },
  {
   "cell_type": "code",
   "execution_count": 7,
   "id": "ddd277fc-efe6-49a2-ad52-389a26fc786b",
   "metadata": {},
   "outputs": [
    {
     "name": "stdout",
     "output_type": "stream",
     "text": [
      "String operator + and * are\n",
      "very easy!!\n"
     ]
    }
   ],
   "source": [
    "''' 삼중 따옴표로 표시하면 파일 실행에서는 출력에 표시되지 않는다.\n",
    "그러므로 삼중 따옴표는 여러 줄 주석에 문자열로 이용할수 있다.'''\n",
    "print('''String operator + and * are\n",
    "very easy!!''')"
   ]
  },
  {
   "cell_type": "code",
   "execution_count": 11,
   "id": "e4a17189-02e3-4866-bcd5-1514412f5654",
   "metadata": {},
   "outputs": [
    {
     "data": {
      "text/plain": [
       "27834.0"
      ]
     },
     "execution_count": 11,
     "metadata": {},
     "output_type": "execute_result"
    }
   ],
   "source": [
    "#실수는 문자 e를 사용해 2.7834e4처럼 지수승으로 표현할 수 있다. 대문자E로도 가능!\n",
    "#2.7834 * 10^4\n",
    "2.7834e4"
   ]
  },
  {
   "cell_type": "code",
   "execution_count": 15,
   "id": "b8d5b6c4-d9b8-4e98-bd6d-42b05f43fe6d",
   "metadata": {},
   "outputs": [
    {
     "data": {
      "text/plain": [
       "8"
      ]
     },
     "execution_count": 15,
     "metadata": {},
     "output_type": "execute_result"
    }
   ],
   "source": [
    "#사칙연산 +-*/\n",
    "5+3"
   ]
  },
  {
   "cell_type": "code",
   "execution_count": 18,
   "id": "451999e8-1979-48e3-9bc5-bf6bddf611c6",
   "metadata": {},
   "outputs": [
    {
     "data": {
      "text/plain": [
       "2"
      ]
     },
     "execution_count": 18,
     "metadata": {},
     "output_type": "execute_result"
    }
   ],
   "source": [
    "5-3"
   ]
  },
  {
   "cell_type": "code",
   "execution_count": 20,
   "id": "8ddc833b-a504-4042-83f5-df5ce36dfe56",
   "metadata": {},
   "outputs": [
    {
     "data": {
      "text/plain": [
       "15"
      ]
     },
     "execution_count": 20,
     "metadata": {},
     "output_type": "execute_result"
    }
   ],
   "source": [
    "5*3"
   ]
  },
  {
   "cell_type": "code",
   "execution_count": 22,
   "id": "37dd238d-dd51-45a6-8735-54a6f319b5d7",
   "metadata": {},
   "outputs": [
    {
     "data": {
      "text/plain": [
       "1.6666666666666667"
      ]
     },
     "execution_count": 22,
     "metadata": {},
     "output_type": "execute_result"
    }
   ],
   "source": [
    "5/3"
   ]
  },
  {
   "cell_type": "code",
   "execution_count": 26,
   "id": "340b2dd3-da62-4919-b2ff-785df9879c39",
   "metadata": {},
   "outputs": [
    {
     "name": "stdout",
     "output_type": "stream",
     "text": [
      "1.6\n",
      "몫:  1\n",
      "나머지:  3\n",
      "5^3 =  125\n"
     ]
    }
   ],
   "source": [
    "#수의 몫, 나머지, 지수승 연산자 //,%,**\n",
    "a = 8/5\n",
    "print(a)\n",
    "a=8//5\n",
    "print(\"몫: \", a)\n",
    "a = 8%5\n",
    "print(\"나머지: \", a)\n",
    "a=5**3\n",
    "print(\"5^3 = \", a)"
   ]
  },
  {
   "cell_type": "code",
   "execution_count": 28,
   "id": "c4ca73ce-ae7d-4766-92fb-5650eb1481db",
   "metadata": {},
   "outputs": [
    {
     "data": {
      "text/plain": [
       "' 산술 연산자의 계산 우선순위\\n1. **\\n2. *, /, %, //\\n3. +, -(부호연산자이거나 2번 없으면 2순위)'"
      ]
     },
     "execution_count": 28,
     "metadata": {},
     "output_type": "execute_result"
    }
   ],
   "source": [
    "''' 산술 연산자의 계산 우선순위\n",
    "1. **\n",
    "2. *, /, %, //\n",
    "3. +, -(부호연산자이거나 2번 없으면 2순위)'''"
   ]
  },
  {
   "cell_type": "code",
   "execution_count": 38,
   "id": "7c66d0e5-10de-4da4-816d-65dfc4759b4d",
   "metadata": {},
   "outputs": [],
   "source": [
    "#예금의 단리와 복리 계산 함수(43.p)\n",
    "def saveMoney(m,p,y):\n",
    "    money = m\n",
    "    interest = m*p/100\n",
    "    m = m*(1+p/100*y)\n",
    "    money = money*(1+p/100) ** y\n",
    "    print(\"단리:\", m, \"복리\", money)\n",
    "    return m,money"
   ]
  },
  {
   "cell_type": "code",
   "execution_count": 40,
   "id": "60bd5eb7-47a0-44e8-afee-9736e1a8a3f9",
   "metadata": {},
   "outputs": [
    {
     "name": "stdout",
     "output_type": "stream",
     "text": [
      "단리: 1022999.9999999999 복리 1022999.9999999999\n"
     ]
    },
    {
     "data": {
      "text/plain": [
       "(1022999.9999999999, 1022999.9999999999)"
      ]
     },
     "execution_count": 40,
     "metadata": {},
     "output_type": "execute_result"
    }
   ],
   "source": [
    "saveMoney(1000000, 2.3, 1)"
   ]
  },
  {
   "cell_type": "code",
   "execution_count": 42,
   "id": "d76025e1-fcb7-41b6-aa6e-30ea8ff2bf63",
   "metadata": {},
   "outputs": [
    {
     "name": "stdout",
     "output_type": "stream",
     "text": [
      "단리: 1115000.0 복리 1120413.0756413424\n"
     ]
    },
    {
     "data": {
      "text/plain": [
       "(1115000.0, 1120413.0756413424)"
      ]
     },
     "execution_count": 42,
     "metadata": {},
     "output_type": "execute_result"
    }
   ],
   "source": [
    "saveMoney(1000000,2.3,5)"
   ]
  },
  {
   "cell_type": "code",
   "execution_count": 46,
   "id": "9ed70301-dd55-432f-b9e9-7319e5fe87dc",
   "metadata": {},
   "outputs": [
    {
     "data": {
      "text/plain": [
       "10.5"
      ]
     },
     "execution_count": 46,
     "metadata": {},
     "output_type": "execute_result"
    }
   ],
   "source": [
    "#evaluation 평가 eval(): 주로 문자열 수식을 계산함\n",
    "eval('3 + 15 / 2')"
   ]
  },
  {
   "cell_type": "code",
   "execution_count": null,
   "id": "78dbde0b-0e72-4878-8404-78aa3ca3a1f5",
   "metadata": {},
   "outputs": [],
   "source": [
    "## Section2"
   ]
  },
  {
   "cell_type": "code",
   "execution_count": 1,
   "id": "0921d2ee-f374-45ce-8537-dd7f0a2860f6",
   "metadata": {},
   "outputs": [
    {
     "data": {
      "text/plain": [
       "int"
      ]
     },
     "execution_count": 1,
     "metadata": {},
     "output_type": "execute_result"
    }
   ],
   "source": [
    "type(3)"
   ]
  },
  {
   "cell_type": "code",
   "execution_count": 3,
   "id": "a67db09e-c756-4e81-89ec-3c4d5ac9d292",
   "metadata": {},
   "outputs": [
    {
     "data": {
      "text/plain": [
       "float"
      ]
     },
     "execution_count": 3,
     "metadata": {},
     "output_type": "execute_result"
    }
   ],
   "source": [
    "pi = 3.14\n",
    "type(pi)"
   ]
  },
  {
   "cell_type": "code",
   "execution_count": 5,
   "id": "d199b450-5437-4754-bd58-0a793aeeb6f2",
   "metadata": {},
   "outputs": [
    {
     "data": {
      "text/plain": [
       "str"
      ]
     },
     "execution_count": 5,
     "metadata": {},
     "output_type": "execute_result"
    }
   ],
   "source": [
    "type('python')"
   ]
  },
  {
   "cell_type": "code",
   "execution_count": 9,
   "id": "11b3a5de-a8af-4e3b-9e5f-f65a1fd36a0f",
   "metadata": {},
   "outputs": [
    {
     "data": {
      "text/plain": [
       "complex"
      ]
     },
     "execution_count": 9,
     "metadata": {},
     "output_type": "execute_result"
    }
   ],
   "source": [
    "type(3+4j)\n",
    "#파이썬에서는복소수i를 j로 표현한다! "
   ]
  },
  {
   "cell_type": "code",
   "execution_count": 12,
   "id": "63238d03-962d-4027-8943-b111be938ed5",
   "metadata": {},
   "outputs": [
    {
     "ename": "SyntaxError",
     "evalue": "cannot assign to literal here. Maybe you meant '==' instead of '='? (1400027642.py, line 1)",
     "output_type": "error",
     "traceback": [
      "\u001b[1;36m  Cell \u001b[1;32mIn[12], line 1\u001b[1;36m\u001b[0m\n\u001b[1;33m    3 = unit\u001b[0m\n\u001b[1;37m    ^\u001b[0m\n\u001b[1;31mSyntaxError\u001b[0m\u001b[1;31m:\u001b[0m cannot assign to literal here. Maybe you meant '==' instead of '='?\n"
     ]
    }
   ],
   "source": [
    "3 = unit #에러 메세지 해석 및 잘 보기! 디버깅의 기초"
   ]
  },
  {
   "cell_type": "code",
   "execution_count": 14,
   "id": "88da410c-dbaa-41b8-9592-52b0f2f36a35",
   "metadata": {},
   "outputs": [],
   "source": [
    "unit = 3"
   ]
  },
  {
   "cell_type": "code",
   "execution_count": 18,
   "id": "3429d58f-3527-4258-a6ae-da672da11785",
   "metadata": {},
   "outputs": [
    {
     "name": "stdout",
     "output_type": "stream",
     "text": [
      "a: 5  b: 5  c: 5\n"
     ]
    }
   ],
   "source": [
    "a = b = c = 5\n",
    "print(\"a:\",a,\" b:\", b,\" c:\", c)"
   ]
  },
  {
   "cell_type": "code",
   "execution_count": 20,
   "id": "38caa6ca-2766-49fa-8040-32e7c2a434ae",
   "metadata": {},
   "outputs": [
    {
     "data": {
      "text/plain": [
       "True"
      ]
     },
     "execution_count": 20,
     "metadata": {},
     "output_type": "execute_result"
    }
   ],
   "source": [
    "5 == 3+2\n",
    "#등호 식의 '같다'라는 등호 연산자는 ==, 결과는 True/False "
   ]
  },
  {
   "cell_type": "code",
   "execution_count": 22,
   "id": "ef57a668-fab8-4894-8ff8-a973f5ca4d33",
   "metadata": {},
   "outputs": [],
   "source": [
    "#2-8코딩(p.51)\n",
    "## 섭씨온도->화씨온도 변환 함수\n",
    "def CeltoFah(c):\n",
    "    fahrenhite = c * 9/5 + 32\n",
    "    print(fahrenhite)\n",
    "    return fahrenhite\n",
    "\n",
    "## 화씨온도->섭씨온도 변환 함수\n",
    "def FahtoCel(f):\n",
    "    celsius = (f-32) * 5/9\n",
    "    print(celsius)\n",
    "    return celsius"
   ]
  },
  {
   "cell_type": "code",
   "execution_count": 24,
   "id": "2c52baaa-3325-4cbd-8779-0f60054fdd83",
   "metadata": {},
   "outputs": [
    {
     "name": "stdout",
     "output_type": "stream",
     "text": [
      "98.6\n"
     ]
    },
    {
     "data": {
      "text/plain": [
       "98.6"
      ]
     },
     "execution_count": 24,
     "metadata": {},
     "output_type": "execute_result"
    }
   ],
   "source": [
    "CeltoFah(37)"
   ]
  },
  {
   "cell_type": "code",
   "execution_count": 28,
   "id": "606c55fc-a65f-4291-97e2-113eccfa5ae9",
   "metadata": {},
   "outputs": [
    {
     "name": "stdout",
     "output_type": "stream",
     "text": [
      "37.0\n"
     ]
    },
    {
     "data": {
      "text/plain": [
       "37.0"
      ]
     },
     "execution_count": 28,
     "metadata": {},
     "output_type": "execute_result"
    }
   ],
   "source": [
    "FahtoCel(98.6)"
   ]
  },
  {
   "cell_type": "code",
   "execution_count": 30,
   "id": "66005934-d9a3-40f5-9508-7f1b0cff6373",
   "metadata": {},
   "outputs": [],
   "source": [
    "#2-9코딩(p.52)\n",
    "## 세일을 적용한 가격 계산기\n",
    "def SalePrice(p, sale):\n",
    "    sp = p*(100-sale) / 100\n",
    "    print(sp)\n",
    "    return sp"
   ]
  },
  {
   "cell_type": "code",
   "execution_count": 32,
   "id": "cfef8ef7-10b5-41c1-aa25-4b00fcdf0df9",
   "metadata": {},
   "outputs": [
    {
     "name": "stdout",
     "output_type": "stream",
     "text": [
      "44800.0\n"
     ]
    },
    {
     "data": {
      "text/plain": [
       "44800.0"
      ]
     },
     "execution_count": 32,
     "metadata": {},
     "output_type": "execute_result"
    }
   ],
   "source": [
    "SalePrice(56000, 20)"
   ]
  },
  {
   "cell_type": "code",
   "execution_count": 44,
   "id": "6fcc2bd9-cf53-42c5-ae77-12f97b9f939b",
   "metadata": {},
   "outputs": [
    {
     "name": "stdout",
     "output_type": "stream",
     "text": [
      "a: 5   b: 9\n"
     ]
    }
   ],
   "source": [
    "a, b = 5, 9\n",
    "print(\"a:\",a,\"  b:\",b)"
   ]
  },
  {
   "cell_type": "code",
   "execution_count": 46,
   "id": "ddf3c382-1ca0-445c-a9f4-cf741204e31d",
   "metadata": {},
   "outputs": [
    {
     "name": "stdout",
     "output_type": "stream",
     "text": [
      "a: 9   b: 5\n"
     ]
    }
   ],
   "source": [
    "a,b = b,a\n",
    "print(\"a:\",a,\"  b:\",b)"
   ]
  },
  {
   "cell_type": "code",
   "execution_count": 48,
   "id": "2bbb8914-d7ad-428b-a5c3-d2bb415b4135",
   "metadata": {},
   "outputs": [
    {
     "name": "stdout",
     "output_type": "stream",
     "text": [
      "a: 5   b: 9\n"
     ]
    }
   ],
   "source": [
    "b,a = a,b\n",
    "print(\"a:\",a,\"  b:\",b)"
   ]
  },
  {
   "cell_type": "code",
   "execution_count": 50,
   "id": "bd42c23b-fda5-41ab-b188-825016f7260b",
   "metadata": {},
   "outputs": [
    {
     "name": "stdout",
     "output_type": "stream",
     "text": [
      "a: 5   b: 9\n"
     ]
    }
   ],
   "source": [
    "a,b = a,b\n",
    "print(\"a:\",a,\"  b:\",b)"
   ]
  },
  {
   "cell_type": "code",
   "execution_count": null,
   "id": "6fcd5b81-c3ef-4137-800d-45ec75c60231",
   "metadata": {},
   "outputs": [],
   "source": [
    "#divmod(a,b)는 나누기 몫 연산 //와 나머지 연산%를 함께 수행해 2개의 겨"
   ]
  },
  {
   "cell_type": "code",
   "execution_count": null,
   "id": "61600305-6ddb-4d44-9d7c-1dd4d5b8b843",
   "metadata": {},
   "outputs": [],
   "source": []
  },
  {
   "cell_type": "code",
   "execution_count": 23,
   "id": "ca7adb62-9c0f-4979-99f8-dd0bc297af0f",
   "metadata": {},
   "outputs": [],
   "source": [
    "def solution(progresses, speeds):\n",
    "    answer = []\n",
    "    restDays = []\n",
    "    \n",
    "    for i in range(len(progresses)): #리스트 길이 만큼 또는 정수 만큼 반복하려면 range() 사용\n",
    "        restPercent = 100 - progresses[i]\n",
    "        if restPercent%speeds[i] != 0:\n",
    "            restDays.append(restPercent//speeds[i] + 1)\n",
    "        else:\n",
    "            restDays.append(restPercent//speeds[i])\n",
    "    print(restDays)        \n",
    "    max = restDays[0]\n",
    "    count = 0\n",
    "    days = 0\n",
    "    for i in restDays:\n",
    "        if i <= max:\n",
    "            count += 1\n",
    "        else:\n",
    "            max = i\n",
    "            answer.append(count)\n",
    "            count = 1\n",
    "    answer.append(count)\n",
    "    return answer"
   ]
  },
  {
   "cell_type": "code",
   "execution_count": 25,
   "id": "c83c0f2a-aa35-4813-b98b-92a8250ad8d5",
   "metadata": {},
   "outputs": [
    {
     "name": "stdout",
     "output_type": "stream",
     "text": [
      "[7, 3, 9]\n",
      "[2, 1]\n"
     ]
    }
   ],
   "source": [
    "progresses = [93,30,55]\n",
    "speeds = [1,30,5]\n",
    "answer = solution(progresses, speeds)\n",
    "print(answer)"
   ]
  },
  {
   "cell_type": "code",
   "execution_count": 35,
   "id": "8d154d0c-8b89-4ec5-b023-8e0ba9247e73",
   "metadata": {},
   "outputs": [],
   "source": [
    "import copy\n",
    "def solution(priorities, location):\n",
    "    answer = 0\n",
    "    turn = 0\n",
    "    l = len(priorities)\n",
    "    \n",
    "    p = copy.deepcopy(priorities)\n",
    "    p.sort()\n",
    "    max = p.pop()\n",
    "    while True:\n",
    "        compare = priorities.pop(0)\n",
    "        turn += 1\n",
    "        if max == compare:\n",
    "            answer += 1\n",
    "            if len(p) == 0:\n",
    "                break\n",
    "            else:\n",
    "                max = p.pop()\n",
    "            if turn % l == location : ##이부분 잘 생각해서 다시 해보기\n",
    "                break\n",
    "            else:\n",
    "                l -= 1\n",
    "        else:\n",
    "            priorities.append(compare)\n",
    "    \n",
    "    return answer"
   ]
  },
  {
   "cell_type": "code",
   "execution_count": 37,
   "id": "de1d8839-69ac-4fe4-a61b-b52d33376a23",
   "metadata": {},
   "outputs": [
    {
     "data": {
      "text/plain": [
       "4"
      ]
     },
     "execution_count": 37,
     "metadata": {},
     "output_type": "execute_result"
    }
   ],
   "source": [
    "priorities = [2, 1, 3, 2]\n",
    "location = 2\n",
    "\n",
    "solution(priorities, location)"
   ]
  },
  {
   "cell_type": "code",
   "execution_count": 49,
   "id": "861ec029-1e5e-436c-b76d-9c5eb902b30e",
   "metadata": {},
   "outputs": [],
   "source": [
    "import copy\n",
    "def solution(priorities, location):\n",
    "    answer = 0\n",
    "    p = copy.deepcopy(priorities)\n",
    "    p.sort()\n",
    "    max = p.pop()\n",
    "    arr = []\n",
    "    for i in range(len(priorities)):\n",
    "        temp = [priorities[i], i]\n",
    "        arr.append(temp)\n",
    "\n",
    "    while True:\n",
    "        compare = arr.pop(0)\n",
    "        if compare[0] == max:\n",
    "            answer += 1\n",
    "            max = p.pop()\n",
    "            if compare[1] == location:\n",
    "                break\n",
    "        else:\n",
    "            arr.append(compare)\n",
    "            \n",
    "    return answer"
   ]
  },
  {
   "cell_type": "code",
   "execution_count": 51,
   "id": "f4a62e63-1c0b-4113-aa47-9468334b0c01",
   "metadata": {},
   "outputs": [
    {
     "data": {
      "text/plain": [
       "1"
      ]
     },
     "execution_count": 51,
     "metadata": {},
     "output_type": "execute_result"
    }
   ],
   "source": [
    "priorities = [2, 1, 3, 2]\n",
    "location = 2\n",
    "\n",
    "solution(priorities, location)"
   ]
  },
  {
   "cell_type": "code",
   "execution_count": null,
   "id": "f1fb469e-3688-4502-9f3a-8dcbe9265392",
   "metadata": {},
   "outputs": [],
   "source": []
  },
  {
   "cell_type": "code",
   "execution_count": 4,
   "id": "0f471b58-163f-4803-b83c-64cda395d475",
   "metadata": {},
   "outputs": [
    {
     "data": {
      "text/plain": [
       "[(0, 10), (1, 20), (2, 30)]"
      ]
     },
     "execution_count": 4,
     "metadata": {},
     "output_type": "execute_result"
    }
   ],
   "source": [
    "lst = [10,20,30]\n",
    "list(enumerate(lst))"
   ]
  },
  {
   "cell_type": "code",
   "execution_count": null,
   "id": "51e9a9a1-c145-4ee0-8c96-1b2ae15cb5ec",
   "metadata": {},
   "outputs": [],
   "source": []
  },
  {
   "cell_type": "code",
   "execution_count": null,
   "id": "4d61f700-fbe0-455c-939e-fb9d120de954",
   "metadata": {},
   "outputs": [],
   "source": [
    "#chapter2 Project Lab (p.63)"
   ]
  },
  {
   "cell_type": "code",
   "execution_count": 3,
   "id": "d753c57d-4799-46a6-9ce2-bfb88bda33d5",
   "metadata": {},
   "outputs": [
    {
     "name": "stdin",
     "output_type": "stream",
     "text": [
      "첫 번째 수 입력 >> 3.4\n",
      "두 번째 수 입력 >> 1.5\n"
     ]
    },
    {
     "name": "stdout",
     "output_type": "stream",
     "text": [
      "합: 4.9\n",
      "차: 1.9\n",
      "곱하기: 5.1\n",
      "나누기: 2.2666666666666666\n"
     ]
    },
    {
     "name": "stdin",
     "output_type": "stream",
     "text": [
      "연산식 입력>> 3*4/2\n"
     ]
    },
    {
     "name": "stdout",
     "output_type": "stream",
     "text": [
      "연산식: 3*4/2 결과: 6.0\n"
     ]
    }
   ],
   "source": [
    "num1 = float(input(\"첫 번째 수 입력 >>\"))\n",
    "num2 = float(input(\"두 번째 수 입력 >>\"))\n",
    "print(\"합:\",num1+num2)\n",
    "print(\"차:\",num1-num2)\n",
    "print(\"곱하기:\",num1*num2)\n",
    "print(\"나누기:\",num1/num2)\n",
    "expression = input(\"연산식 입력>>\")\n",
    "print(\"연산식:\",expression, \"결과:\", eval(expression))"
   ]
  },
  {
   "cell_type": "code",
   "execution_count": 10,
   "id": "242e87d9-aba7-41e2-b578-71ca3d145265",
   "metadata": {},
   "outputs": [
    {
     "name": "stdin",
     "output_type": "stream",
     "text": [
      "입력할 정수의 진수(base)는? 2\n",
      "2진수 정수 입력 >> 1011\n"
     ]
    },
    {
     "name": "stdout",
     "output_type": "stream",
     "text": [
      "2진수: 0b1011\n",
      "8진수: 0o13\n",
      "16진수: 0xb\n"
     ]
    }
   ],
   "source": [
    "base = int(input(\"입력할 정수의 진수(base)는?\"))\n",
    "num = int(input(\"{}진수 정수 입력 >>\".format(base)),base)\n",
    "#중요! 이 코드를 안 적음! num에서 문자열로 받고 int형으로 바꾼 것은 10진수 형태!\n",
    "#num = int(input(\"{}진수 정수 입력 >>\".format(base))) 원래 이렇게 했었음, 이렇게하면 진수를 해당 진수가 아니라 10진수로 읽어버림!!\n",
    "#num = int(num, base)\n",
    "print(\"2진수:\",bin(num))\n",
    "print(\"8진수:\",oct(num))\n",
    "print(\"16진수:\",hex(num))"
   ]
  },
  {
   "cell_type": "code",
   "execution_count": 16,
   "id": "250c580f-b55c-499b-aab6-7bdc8013be75",
   "metadata": {},
   "outputs": [],
   "source": [
    "#도전! 프로그래밍"
   ]
  },
  {
   "cell_type": "code",
   "execution_count": 20,
   "id": "66c0481f-5362-4d36-95e1-49cde0d4ad17",
   "metadata": {},
   "outputs": [
    {
     "name": "stdin",
     "output_type": "stream",
     "text": [
      "문자열 1: python\n",
      "문자열 2: 언어\n"
     ]
    },
    {
     "name": "stdout",
     "output_type": "stream",
     "text": [
      "python 언어\n"
     ]
    }
   ],
   "source": [
    "str1 = input(\"문자열 1:\")\n",
    "str2 = input(\"문자열 2:\")\n",
    "print(str1, str2)\n",
    "#print(str1 + \" \" + str2)"
   ]
  },
  {
   "cell_type": "code",
   "execution_count": 28,
   "id": "bcb2196b-5a76-45a1-a9a2-2da337f5813c",
   "metadata": {},
   "outputs": [
    {
     "name": "stdin",
     "output_type": "stream",
     "text": [
      "차의 속도를 입력(km) >> 135\n"
     ]
    },
    {
     "name": "stdout",
     "output_type": "stream",
     "text": [
      "135.0 (km)은 83.85093167701862 마일(miles)이다.\n"
     ]
    }
   ],
   "source": [
    "rate = float(input(\"차의 속도를 입력(km) >>\"))\n",
    "mileRate = rate / 1.61 #1마일은 1.6km\n",
    "print(rate,\"(km)은\",mileRate,\"마일(miles)이다.\")"
   ]
  },
  {
   "cell_type": "code",
   "execution_count": 30,
   "id": "e98ec792-eb86-4d86-9650-5be8c4a10ff4",
   "metadata": {},
   "outputs": [
    {
     "name": "stdin",
     "output_type": "stream",
     "text": [
      "아메리카노 몇 개 주문하세요? 7\n"
     ]
    },
    {
     "name": "stdout",
     "output_type": "stream",
     "text": [
      "총 가격은 24500 이다.\n"
     ]
    }
   ],
   "source": [
    "count = int(input(\"아메리카노 몇 개 주문하세요?\"))\n",
    "print(\"총 가격은\", count*3500,\"이다.\")"
   ]
  },
  {
   "cell_type": "code",
   "execution_count": 32,
   "id": "7d90448a-1c64-469b-b2f6-043c3dd132e4",
   "metadata": {},
   "outputs": [
    {
     "name": "stdout",
     "output_type": "stream",
     "text": [
      "알려진 지구 둘레: 40120\n",
      "지구와 같은 원둘레: 40074.77587040001\n",
      "차이: 45.22412959999201\n"
     ]
    }
   ],
   "source": [
    "circle = 40120\n",
    "realCircle = 6378.1*2*3.141592\n",
    "print(\"알려진 지구 둘레:\", circle)\n",
    "print(\"지구와 같은 원둘레:\", realCircle)\n",
    "print(\"차이:\", circle - realCircle)"
   ]
  },
  {
   "cell_type": "code",
   "execution_count": 34,
   "id": "7ed4f5b3-94d8-4b22-8348-7932af765399",
   "metadata": {},
   "outputs": [
    {
     "name": "stdin",
     "output_type": "stream",
     "text": [
      "온도 입력>> 38\n"
     ]
    },
    {
     "name": "stdout",
     "output_type": "stream",
     "text": [
      "정확 계산: 섭씨: 38 화씨: 100.4\n",
      "약식 계산: 섭씨: 38 화씨: 106\n",
      "차이: -5.599999999999994\n"
     ]
    }
   ],
   "source": [
    "temperate = int(input(\"온도 입력>>\"))\n",
    "correct = temperate*9/5+32\n",
    "extimate = temperate*2+30\n",
    "print(\"정확 계산: 섭씨:\",temperate,\"화씨:\",correct)\n",
    "print(\"약식 계산: 섭씨:\",temperate,\"화씨:\",extimate)\n",
    "print(\"차이:\", correct - extimate)"
   ]
  },
  {
   "cell_type": "code",
   "execution_count": 36,
   "id": "419b493e-6396-4fc4-9536-a51962e4c805",
   "metadata": {},
   "outputs": [
    {
     "name": "stdin",
     "output_type": "stream",
     "text": [
      "Enter First number:  12\n",
      "Enter Second number:  5\n"
     ]
    },
    {
     "name": "stdout",
     "output_type": "stream",
     "text": [
      "12 / 5 ==> 2.4\n",
      "12 % 5 ==> 2\n",
      "12 // 5 ==> 2\n",
      "12 ** 5 ==> 248832\n"
     ]
    }
   ],
   "source": [
    "num1 = int(input(\"Enter First number: \"))\n",
    "num2 = int(input(\"Enter Second number: \"))\n",
    "print(\"{} / {} ==>\".format(num1, num2), num1/num2)\n",
    "print(\"{} % {} ==>\".format(num1, num2), num1%num2)\n",
    "print(\"{} // {} ==>\".format(num1, num2), num1//num2)\n",
    "print(\"{} ** {} ==>\".format(num1, num2), num1**num2)"
   ]
  },
  {
   "cell_type": "code",
   "execution_count": 44,
   "id": "6c2f3a26-570b-4903-aad1-595ea0732942",
   "metadata": {},
   "outputs": [
    {
     "name": "stdin",
     "output_type": "stream",
     "text": [
      "첫 번째 16진수 실수 입력>> f\n",
      "두 번째 16진수 실수 입력>> e.1\n"
     ]
    },
    {
     "name": "stdout",
     "output_type": "stream",
     "text": [
      "실수1: 15.0 실수2: 14.0625\n",
      "합: 29.0625\n",
      "차: 0.9375\n",
      "곱하기: 210.9375\n",
      "나누기: 1.0666666666666667\n"
     ]
    }
   ],
   "source": [
    "first = float.fromhex(input(\"첫 번째 16진수 실수 입력>>\"))\n",
    "second = float.fromhex(input(\"두 번째 16진수 실수 입력>>\"))\n",
    "print(\"실수1: {} 실수2: {}\".format(first, second))\n",
    "print(f\"합: {first + second}\")\n",
    "print(f\"차: {first - second}\")\n",
    "print(f\"곱하기: {first * second}\")\n",
    "print(f\"나누기: {first/second}\")"
   ]
  },
  {
   "cell_type": "code",
   "execution_count": 46,
   "id": "5272ffee-0f70-48e0-87b9-38fed9519ae4",
   "metadata": {},
   "outputs": [
    {
     "name": "stdin",
     "output_type": "stream",
     "text": [
      "네 자릿수 정수 입력 >> 5432\n"
     ]
    },
    {
     "name": "stdout",
     "output_type": "stream",
     "text": [
      "2345"
     ]
    }
   ],
   "source": [
    "num = int(input(\"네 자릿수 정수 입력 >>\"))\n",
    "while num != 0 :\n",
    "    print(num%10, end = \"\")\n",
    "    num = num // 10"
   ]
  },
  {
   "cell_type": "code",
   "execution_count": 48,
   "id": "a450e0c0-5703-4a8f-8880-196aaa7ebdb0",
   "metadata": {},
   "outputs": [],
   "source": [
    "#chapter3 ProjectLab (p.109)"
   ]
  },
  {
   "cell_type": "code",
   "execution_count": 52,
   "id": "c79349d9-ddca-4e5c-98fa-bd93a9f8081f",
   "metadata": {},
   "outputs": [
    {
     "name": "stdin",
     "output_type": "stream",
     "text": [
      "총 가격(원 가격) 입력 >> 50000\n"
     ]
    },
    {
     "name": "stdout",
     "output_type": "stream",
     "text": [
      "원 가격: 50000 할인된 가격: 48000.0\n",
      "할인율: 0.04 할인액: 2000.0\n"
     ]
    }
   ],
   "source": [
    "price = int(input(\"총 가격(원 가격) 입력 >>\"))\n",
    "#연산 우선순위 중 관계연산(크다,작다 등)은 사칙연산보다 우선순위가 뒤이므로 괄호 필요! 무조건 광호 쳐주자!\n",
    "rate1 = (10000<= price <20000) * 0.01\n",
    "rate2 = (20000<= price < 40000) * 0.02\n",
    "rate3 = (price >= 40000) * 0.04\n",
    "rate = rate1 + rate2 + rate3\n",
    "\n",
    "print(\"원 가격: {} 할인된 가격: {}\".format(price, price - price*rate))\n",
    "print(\"할인율: {} 할인액: {}\".format(rate, price*rate))"
   ]
  },
  {
   "cell_type": "code",
   "execution_count": 58,
   "id": "cceafba6-e0f3-4231-9cc3-d521c8da6783",
   "metadata": {},
   "outputs": [
    {
     "name": "stdin",
     "output_type": "stream",
     "text": [
      "콤마로 구분된 단어 3개 입력 >> 여보보여, 파이썬, level\n"
     ]
    },
    {
     "name": "stdout",
     "output_type": "stream",
     "text": [
      "단어: 여보보여, 역순: 여보보여, 회문: True\n",
      "단어: 파이썬, 역순: 썬이파, 회문: False\n",
      "단어: level, 역순: level, 회문: True\n"
     ]
    }
   ],
   "source": [
    "words = input(\"콤마로 구분된 단어 3개 입력 >>\")\n",
    "#words.replace(\" \", \"\") 이렇게만 하고 저장해주지 않으면 words가 변경되지 않음. 그냥 변경된 객체만 반환됨. 왜냐하면 문자열은 수정할 수 없음!! immutable임!\n",
    "#print(words)\n",
    "words = words.replace(\" \",\"\")\n",
    "word1, word2, word3 = words.split(\",\")\n",
    "print(\"단어: {}, 역순: {}, 회문: {}\".format(word1, word1[::-1], word1 == word1[::-1]))\n",
    "print(\"단어: {}, 역순: {}, 회문: {}\".format(word2, word2[::-1], word2 == word2[::-1]))\n",
    "print(\"단어: {}, 역순: {}, 회문: {}\".format(word3, word3[::-1], word3 == word3[::-1]))"
   ]
  },
  {
   "cell_type": "code",
   "execution_count": 64,
   "id": "f4c7d15a-444e-4296-883e-381989c3e0a1",
   "metadata": {},
   "outputs": [
    {
     "name": "stdout",
     "output_type": "stream",
     "text": [
      "['a', 'c', 'b']\n"
     ]
    }
   ],
   "source": [
    "l = ['a','c','b']\n",
    "#l.sort() #실제 l이 정렬됨\n",
    "#sorted(l) # l을 정렬한 새로운 객체 반환. 변수에 대입하여 사용해야함.\n",
    "print(l)"
   ]
  },
  {
   "cell_type": "code",
   "execution_count": 70,
   "id": "f8713088-3d97-447e-be49-e93e2ede4cfd",
   "metadata": {},
   "outputs": [
    {
     "name": "stdout",
     "output_type": "stream",
     "text": [
      "어떤 일에든 명확한 - 바람직하며 유일한 - 방법이 존재한다.\n",
      "34\n",
      "바람직하며 유일한\n",
      "어떤일에든명확한-바람직하며유일한-방법이존재한다.\n"
     ]
    }
   ],
   "source": [
    "str = '어떤 일에든 명확한 - 바람직하며 유일한 - 방법이 존재한다.'\n",
    "print(str)\n",
    "slen = len(str)\n",
    "print(slen)\n",
    "start = str.find('바람직하며 유일한')\n",
    "end = start + len('바람직하며 유일한') #문자열 끝을 잘 봐야함! 0시작이라고 할 때 + len 이면 0~len-1까지 돌게 됨! 문자열 길이가 len, 실제 문자 있는 인덱스는 len-1까지!\n",
    "print(str[start:end])\n",
    "non_space_str = str.replace(\" \", \"\")\n",
    "print(non_space_str)"
   ]
  },
  {
   "cell_type": "code",
   "execution_count": 72,
   "id": "14982b78-4db3-4040-a299-b390f8de03de",
   "metadata": {},
   "outputs": [
    {
     "name": "stdin",
     "output_type": "stream",
     "text": [
      "문자열 입력 >> Python is a good language!\n"
     ]
    },
    {
     "name": "stdout",
     "output_type": "stream",
     "text": [
      "참조할 첨자: 0 ~ 25\n"
     ]
    },
    {
     "name": "stdin",
     "output_type": "stream",
     "text": [
      "참조할 첨자 입력 >> 12\n"
     ]
    },
    {
     "name": "stdout",
     "output_type": "stream",
     "text": [
      "문자열: Python is a good language!, 길이: 26\n",
      "참조 문자: g\n"
     ]
    }
   ],
   "source": [
    "str = input('문자열 입력 >>')\n",
    "print('참조할 첨자: {} ~ {}'.format(0,len(str)-1))\n",
    "index = int(input('참조할 첨자 입력 >>'))\n",
    "print('문자열: {}, 길이: {}'.format(str, len(str)))\n",
    "print('참조 문자: {}'.format(str[index]))"
   ]
  },
  {
   "cell_type": "code",
   "execution_count": 78,
   "id": "6fa72eaf-59a7-4cbb-b132-818a5bd0165e",
   "metadata": {},
   "outputs": [
    {
     "name": "stdin",
     "output_type": "stream",
     "text": [
      "다섯 문자 이상의 문자열 입력>> Python String Slicing\n"
     ]
    },
    {
     "name": "stdout",
     "output_type": "stream",
     "text": [
      "입력 문자열: Python String Slicing\n",
      "첫 문자: P\n",
      "마지막 문자: g\n",
      "첫 문자를 제외한 부분 문자열: ython String Slicing\n",
      "마지막 문자를 제외한 부분 문자열: Python String Slicin\n",
      "맨 앞과 뒤의 두 문자씩을 제외한 부분 문자열: ython String Slici\n",
      "문자 하나씩을 건너뛴 부분 문자열: Pto tigSiig\n",
      "역문자열: gnicilS gnirtS nohtyP\n"
     ]
    }
   ],
   "source": [
    "str = input('다섯 문자 이상의 문자열 입력>>')\n",
    "print('입력 문자열:', str)\n",
    "print('첫 문자:', str[0])\n",
    "print('마지막 문자:',str[-1])\n",
    "print('첫 문자를 제외한 부분 문자열:', str[1:])\n",
    "print('마지막 문자를 제외한 부분 문자열:',str[:-1]) #여기 또 틀림!! 마지막 -1까지 end - 1까지인 것 꼭 기억! 음수도 마찬가지!\n",
    "print('맨 앞과 뒤의 두 문자씩을 제외한 부분 문자열:', str[1:-2]) #여기 또 틀림!! 마지막 -1까지\n",
    "print('문자 하나씩을 건너뛴 부분 문자열:', str[::2])\n",
    "print('역문자열:',str[::-1])"
   ]
  },
  {
   "cell_type": "code",
   "execution_count": 80,
   "id": "e77ff8a4-47f4-45ab-b1d0-392b71b8c50c",
   "metadata": {},
   "outputs": [
    {
     "name": "stdout",
     "output_type": "stream",
     "text": [
      "Beautiful is better than ugly.\n",
      "Explicit is better than implicit.\n"
     ]
    }
   ],
   "source": [
    "str = 'Beautiful is better than ugly.'\n",
    "print(str)\n",
    "str = str.replace('Beautiful', 'Explicit')\n",
    "str = str.replace('ugly','implicit')\n",
    "print(str)"
   ]
  },
  {
   "cell_type": "code",
   "execution_count": 88,
   "id": "6a3beec1-d337-457d-a601-6a61e41cadcb",
   "metadata": {},
   "outputs": [
    {
     "name": "stdout",
     "output_type": "stream",
     "text": [
      "0 5\n",
      "https\n"
     ]
    }
   ],
   "source": [
    "url = 'https://docs.python.org/3/tutorial'\n",
    "start = url.find('https')\n",
    "end = start + len('https')\n",
    "print(start, end)\n",
    "print(url[start:end])"
   ]
  },
  {
   "cell_type": "code",
   "execution_count": null,
   "id": "0e30d297-088f-4446-9d6b-8556d7bd4b5b",
   "metadata": {},
   "outputs": [],
   "source": [
    "num = int(input('정수 입력>>'))"
   ]
  },
  {
   "cell_type": "code",
   "execution_count": 94,
   "id": "d05e709f-a9e3-4bf2-ba2a-f0d32b33a2f9",
   "metadata": {},
   "outputs": [
    {
     "name": "stdout",
     "output_type": "stream",
     "text": [
      "p 112\n"
     ]
    }
   ],
   "source": [
    "for s in 'python':\n",
    "    print(s, ord(s))\n",
    "    break\n",
    "else: print('반복 for문 완료')"
   ]
  },
  {
   "cell_type": "code",
   "execution_count": 98,
   "id": "b7bd679e-8f31-42cc-9fd2-8613fd75811f",
   "metadata": {},
   "outputs": [
    {
     "name": "stdin",
     "output_type": "stream",
     "text": [
      " 110\n"
     ]
    },
    {
     "name": "stdout",
     "output_type": "stream",
     "text": [
      "1\n"
     ]
    },
    {
     "name": "stdin",
     "output_type": "stream",
     "text": [
      " 120\n"
     ]
    },
    {
     "name": "stdout",
     "output_type": "stream",
     "text": [
      "2\n"
     ]
    },
    {
     "name": "stdin",
     "output_type": "stream",
     "text": [
      " 107\n"
     ]
    },
    {
     "name": "stdout",
     "output_type": "stream",
     "text": [
      "3\n"
     ]
    },
    {
     "name": "stdin",
     "output_type": "stream",
     "text": [
      " 105\n"
     ]
    },
    {
     "name": "stdout",
     "output_type": "stream",
     "text": [
      "4\n",
      "finish\n"
     ]
    }
   ],
   "source": [
    "maxnum = 4\n",
    "maxheight = 130\n",
    "more = True\n",
    "cnt = 0\n",
    "while more:\n",
    "    height = float(input())\n",
    "    if height < maxheight:\n",
    "        cnt += 1\n",
    "        print(cnt)\n",
    "    else:\n",
    "        print('no')\n",
    "    if cnt == maxnum:\n",
    "        more = False\n",
    "else:\n",
    "    print('finish')"
   ]
  },
  {
   "cell_type": "code",
   "execution_count": null,
   "id": "57d3fc89-a6bc-4311-a2fd-36bc9c34ab08",
   "metadata": {},
   "outputs": [],
   "source": [
    "inum = int(input('정수 입력'))\n",
    "exponent = int(input('2의 지수승 입력'))\n",
    "print()\n",
    "print('정수 {} << {}, 결과: {}'.format(inum, exponent, inum<<exponent))\n",
    "print('정수 {} * 2**{}, 결과: {}'.format(inum, exponent, inum*2**exponent))\n",
    "print('2진수(32비트): %32s' % format(inum, 'b'), '정수: {}'.format(inum))\n",
    "print('2진수(32비트): %32s' % format(inum << exponent, 'b'), '정수: {} << {}'.format(inum, exponent))\n",
    "print('2진수(32비트): %32s' % format(inum*2**exponent, 'b'), '정수: {}*2**{}'.format(inum, exponent))\n",
    "print('2진수(32비트): {:32b}'.format(inum*2**exponent), '정수: {}*2**{}'.format(inum, exponent))"
   ]
  },
  {
   "cell_type": "code",
   "execution_count": 144,
   "id": "5ebdc551-d790-4103-89a6-2618bd0981bf",
   "metadata": {},
   "outputs": [
    {
     "name": "stdout",
     "output_type": "stream",
     "text": [
      "{'해', '별', '달'}\n",
      "{'해달별'}\n",
      "['해달별']\n",
      "{'해달별'}\n",
      "{'해달별'}\n"
     ]
    }
   ],
   "source": [
    "planets = set('해달별')\n",
    "test = set(['해달별']) #리스트 인자로 넣으면 하나의 항목으로 들어감. 왜?\n",
    "lst = list(['해달별'])\n",
    "test2 = set(('해달별',)) #튜플에서 하나의 인자면 ','넣어줘야 하나의 인자로 들어감! 항목 하나인 튜플로 인식!\n",
    "test3 = set(('해달별',))\n",
    "print(planets)\n",
    "print(test)\n",
    "print(lst)\n",
    "print(test2)\n",
    "print(test3)"
   ]
  },
  {
   "cell_type": "code",
   "execution_count": 116,
   "id": "85c9694a-7603-49e8-9231-482b8de0ba8e",
   "metadata": {},
   "outputs": [
    {
     "data": {
      "text/plain": [
       "{5, 6, 7, 8}"
      ]
     },
     "execution_count": 116,
     "metadata": {},
     "output_type": "execute_result"
    }
   ],
   "source": [
    "a = {4,5,6,7,8}\n",
    "b = {1,2,3,4}\n",
    "a.difference(b)\n",
    "#print(a)"
   ]
  },
  {
   "cell_type": "code",
   "execution_count": 126,
   "id": "60b94838-036d-494d-b22d-99e1baa3aeaa",
   "metadata": {},
   "outputs": [
    {
     "name": "stdout",
     "output_type": "stream",
     "text": [
      "[(4, 1), (5, 2), (6, 3), (7, 4)]\n"
     ]
    }
   ],
   "source": [
    "c = zip(a,b)\n",
    "print(list(c))"
   ]
  },
  {
   "cell_type": "code",
   "execution_count": null,
   "id": "6ffa5cb7-ff6b-4573-88e0-1a173f98e8b8",
   "metadata": {},
   "outputs": [],
   "source": []
  }
 ],
 "metadata": {
  "kernelspec": {
   "display_name": "Python 3 (ipykernel)",
   "language": "python",
   "name": "python3"
  },
  "language_info": {
   "codemirror_mode": {
    "name": "ipython",
    "version": 3
   },
   "file_extension": ".py",
   "mimetype": "text/x-python",
   "name": "python",
   "nbconvert_exporter": "python",
   "pygments_lexer": "ipython3",
   "version": "3.12.4"
  }
 },
 "nbformat": 4,
 "nbformat_minor": 5
}
